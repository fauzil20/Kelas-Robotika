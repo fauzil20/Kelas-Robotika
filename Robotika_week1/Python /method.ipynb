{
  "nbformat": 4,
  "nbformat_minor": 0,
  "metadata": {
    "colab": {
      "provenance": [],
      "authorship_tag": "ABX9TyPn8MK7zoEGixmDPgJA1z7R",
      "include_colab_link": true
    },
    "kernelspec": {
      "name": "python3",
      "display_name": "Python 3"
    },
    "language_info": {
      "name": "python"
    }
  },
  "cells": [
    {
      "cell_type": "markdown",
      "metadata": {
        "id": "view-in-github",
        "colab_type": "text"
      },
      "source": [
        "<a href=\"https://colab.research.google.com/github/fauzil20/Kelas-Robotika/blob/main/Robotika_week1/Python%20/method.ipynb\" target=\"_parent\"><img src=\"https://colab.research.google.com/assets/colab-badge.svg\" alt=\"Open In Colab\"/></a>"
      ]
    },
    {
      "cell_type": "code",
      "execution_count": null,
      "metadata": {
        "id": "jMcF1Q7c4c0N"
      },
      "outputs": [],
      "source": [
        "# Nama : Fauzil Fahrezi Suaib\n",
        "# NIM : 1103204107\n",
        "\n",
        "#Exercise 4.1\n",
        "#test_methods1.py\n",
        "from robot_control_class import RobotControl\n",
        "import time\n",
        "\n",
        "robotcontrol = RobotControl(robot_name=\"summit\")\n",
        "\n",
        "def move_x_seconds(secs):\n",
        "    robotcontrol.move_straight()\n",
        "    time.sleep(secs)\n",
        "    robotcontrol.stop_robot()\n",
        "\n",
        "\n",
        "move_x_seconds(5)\n",
        "\n",
        "#Exercise 4.2\n",
        "#test_methods2.py\n",
        "from robot_control_class import RobotControl\n",
        "\n",
        "robotcontrol = RobotControl(robot_name=\"summit\")\n",
        "\n",
        "def get_laser_values(a,b,c):\n",
        "    r1 = robotcontrol.get_laser_summit(a)\n",
        "    r2 = robotcontrol.get_laser_summit(b)\n",
        "    r3 = robotcontrol.get_laser_summit(c)\n",
        "\n",
        "    return [r1, r2, r3]\n",
        "\n",
        "l = get_laser_values(0, 500, 1000)\n",
        "\n",
        "print (\"Reading 1: \", l[0])\n",
        "print (\"Reading 2: \", l[1])\n",
        "print (\"Reading 3: \", l[2])\n",
        "\n",
        "#Exercise 4.3\n",
        "#test_methods3.py\n",
        "from robot_control_class import RobotControl\n",
        "\n",
        "robotcontrol = RobotControl(robot_name=\"summit\")\n",
        "\n",
        "robotcontrol.move_straight_time(\"forward\", 0.3, 5)\n",
        "robotcontrol.turn(\"clockwise\", 0.3, 7)\n",
        "\n",
        "#Exercise 4.4\n",
        "#test_methods4.py\n",
        "from robot_control_class import RobotControl\n",
        "\n",
        "robotcontrol = RobotControl(robot_name=\"summit\")\n",
        "\n",
        "robotcontrol.turn(\"counter-clockwise\", 0.3, 4)\n",
        "robotcontrol.move_straight_time(\"forward\", 0.3, 6)\n",
        "robotcontrol.turn(\"counter-clockwise\", 0.3, 4)\n",
        "robotcontrol.move_straight_time(\"forward\", 0.3, 7)"
      ]
    }
  ]
}