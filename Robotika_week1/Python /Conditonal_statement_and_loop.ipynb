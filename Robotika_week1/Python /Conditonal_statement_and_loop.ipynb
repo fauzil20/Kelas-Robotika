{
  "nbformat": 4,
  "nbformat_minor": 0,
  "metadata": {
    "colab": {
      "provenance": [],
      "authorship_tag": "ABX9TyM7reCQfESiZoC5p64JPfY5",
      "include_colab_link": true
    },
    "kernelspec": {
      "name": "python3",
      "display_name": "Python 3"
    },
    "language_info": {
      "name": "python"
    }
  },
  "cells": [
    {
      "cell_type": "markdown",
      "metadata": {
        "id": "view-in-github",
        "colab_type": "text"
      },
      "source": [
        "<a href=\"https://colab.research.google.com/github/fauzil20/Kelas-Robotika/blob/main/Robotika_week1/Python%20/Conditonal_statement_and_loop.ipynb\" target=\"_parent\"><img src=\"https://colab.research.google.com/assets/colab-badge.svg\" alt=\"Open In Colab\"/></a>"
      ]
    },
    {
      "cell_type": "code",
      "execution_count": null,
      "metadata": {
        "id": "uge71D42vUcf"
      },
      "outputs": [],
      "source": [
        "# Nama : Fauzil Fahrezi Suaib\n",
        "# NIM : 1103204107\n",
        "\n",
        "#Exercise 3.1\n",
        "#test_if.py\n",
        "from robot_control_class import RobotControl\n",
        "\n",
        "robotcontrol = RobotControl()\n",
        "\n",
        "a = robotcontrol.get_laser(360)\n",
        "\n",
        "if a < 1:\n",
        "    robotcontrol.stop_robot()\n",
        "\n",
        "else:\n",
        "    robotcontrol.move_straight()\n",
        "\n",
        "print (\"The laser value received was: \", a)\n",
        "\n",
        "\n",
        "#Exercise 3.2\n",
        "#test_while.py\n",
        "from robot_control_class import RobotControl\n",
        "\n",
        "robotcontrol = RobotControl()\n",
        "\n",
        "a = robotcontrol.get_laser(360)\n",
        "\n",
        "while a > 1:\n",
        "    robotcontrol.move_straight()\n",
        "    a = robotcontrol.get_laser(360)\n",
        "    print (\"Current distance to wall: %f\" % a)\n",
        "\n",
        "robotcontrol.stop_robot()\n",
        "\n",
        "print (\"Wall is at %f meters! Stop the robot!\" % a)\n",
        "\n",
        "\n",
        "#Exercise 3.3\n",
        "#test_for.py\n",
        "from robot_control_class import RobotControl\n",
        "\n",
        "robotcontrol = RobotControl()\n",
        "\n",
        "l = robotcontrol.get_laser_full()\n",
        "\n",
        "maxim = 0\n",
        "\n",
        "for value in l:\n",
        "    if value > maxim:\n",
        "        maxim = value\n",
        "\n",
        "print (\"The higher value in the list is: \", maxim)\n",
        "\n",
        "\n"
      ]
    }
  ]
}