{
  "nbformat": 4,
  "nbformat_minor": 0,
  "metadata": {
    "colab": {
      "provenance": [],
      "authorship_tag": "ABX9TyOldzWv3+vi5oVxqTOtdpga",
      "include_colab_link": true
    },
    "kernelspec": {
      "name": "python3",
      "display_name": "Python 3"
    },
    "language_info": {
      "name": "python"
    }
  },
  "cells": [
    {
      "cell_type": "markdown",
      "metadata": {
        "id": "view-in-github",
        "colab_type": "text"
      },
      "source": [
        "<a href=\"https://colab.research.google.com/github/fauzil20/Kelas-Robotika/blob/main/Robotika_week1/Python/Introduction.ipynb\" target=\"_parent\"><img src=\"https://colab.research.google.com/assets/colab-badge.svg\" alt=\"Open In Colab\"/></a>"
      ]
    },
    {
      "cell_type": "code",
      "execution_count": null,
      "metadata": {
        "id": "0dfdi8DSqX6m"
      },
      "outputs": [],
      "source": [
        "# Nama : Fauzil Fahrezi Suaib\n",
        "# NIM : 1103204107\n",
        "\n",
        "#Demo 1.1\n",
        "#arm_control.py\n",
        "from smart_grasping_sandbox.smart_grasper import SmartGrasper\n",
        "from tf.transformations import quaternion_from_euler\n",
        "from math import pi\n",
        "import time\n",
        "\n",
        "sgs = SmartGrasper()\n",
        "\n",
        "sgs.pick()\n",
        "\n",
        "sgs.reset_world()"
      ]
    }
  ]
}